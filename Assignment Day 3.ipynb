{
 "cells": [
  {
   "cell_type": "code",
   "execution_count": 2,
   "metadata": {},
   "outputs": [],
   "source": [
    "import numpy\n",
    "import numpy as np"
   ]
  },
  {
   "cell_type": "markdown",
   "metadata": {},
   "source": [
    "# Q1\n",
    "Create a numpy array starting from 2 till 50 with a stepsize of 3."
   ]
  },
  {
   "cell_type": "code",
   "execution_count": 15,
   "metadata": {},
   "outputs": [
    {
     "name": "stdout",
     "output_type": "stream",
     "text": [
      "[ 2  5  8 11 14 17 20 23 26 29 32 35 38 41 44 47 50]\n"
     ]
    }
   ],
   "source": [
    "x1=np.arange(51)[2:51:3]\n",
    "print(x1)\n",
    "\n",
    "\n"
   ]
  },
  {
   "cell_type": "markdown",
   "metadata": {},
   "source": [
    "# Q2\n",
    "Accept two lists of 5 elements each from the user.\n",
    "Convert them to numpy arrays. Concatenate these arrays and print it. Also sort these arrays and print it."
   ]
  },
  {
   "cell_type": "code",
   "execution_count": 18,
   "metadata": {},
   "outputs": [
    {
     "name": "stdout",
     "output_type": "stream",
     "text": [
      "1st list elements:\n",
      "0\n",
      "3\n",
      "2\n",
      "1\n",
      "4\n",
      "2nd list elements:\n",
      "5\n",
      "6\n",
      "8\n",
      "7\n",
      "9\n",
      "1st_list=  [0, 3, 2, 1, 4]\n",
      "2nd_list=  [5, 6, 8, 7, 9]\n",
      "1st Array:  [0 3 2 1 4]\n",
      "2nd Array:  [5 6 8 7 9]\n",
      "Concatenated Array:  [0 3 2 1 4 5 6 8 7 9]\n",
      "1st sort Array:  [0 1 2 3 4]\n",
      "2nd sort Array:  [5 6 7 8 9]\n",
      "3rd sort Array:  [0 1 2 3 4 5 6 7 8 9]\n"
     ]
    }
   ],
   "source": [
    "l1=[]\n",
    "print(\"1st list elements:\")\n",
    "for x in range(1,6):\n",
    "    a=int(input())\n",
    "    l1.append(a)\n",
    "\n",
    "l2=[]\n",
    "print(\"2nd list elements:\")\n",
    "for y in range(1,6):\n",
    "    b=int(input())\n",
    "    l2.append(b)\n",
    "    \n",
    "print(\"1st_list= \" , l1)\n",
    "print(\"2nd_list= \" , l2)\n",
    "\n",
    "array1=np.array(l1)\n",
    "print(\"1st Array: \",array1)\n",
    "array2=np.array(l2)\n",
    "print(\"2nd Array: \",array2)\n",
    "array3=np.concatenate((array1,array2))\n",
    "print(\"Concatenated Array: \",array3)\n",
    "\n",
    "sort_array1=np.sort(array1)\n",
    "print(\"1st sort Array: \",sort_array1)\n",
    "sort_array2=np.sort(array2)\n",
    "print(\"2nd sort Array: \",sort_array2)\n",
    "sort_array3=np.sort(array3)\n",
    "print(\"3rd sort Array: \",sort_array3)"
   ]
  },
  {
   "cell_type": "markdown",
   "metadata": {},
   "source": [
    "# Q3\n",
    "Write a code snippet to find the dimensions of a ndarray and its size"
   ]
  },
  {
   "cell_type": "code",
   "execution_count": 19,
   "metadata": {},
   "outputs": [
    {
     "name": "stdout",
     "output_type": "stream",
     "text": [
      "No. of dimensions:  2\n",
      "Shape of array:  (3, 3)\n",
      "Size of array:  9\n"
     ]
    }
   ],
   "source": [
    "\n",
    "arr = np.array( [[ 0, 1, 2],\n",
    "                 [ 3, 4, 5],\n",
    "                 [6, 7, 8]])\n",
    "\n",
    "print(\"No. of dimensions: \", arr.ndim)\n",
    " \n",
    "\n",
    "print(\"Shape of array: \", arr.shape)\n",
    " \n",
    "\n",
    "print(\"Size of array: \", arr.size)"
   ]
  },
  {
   "cell_type": "markdown",
   "metadata": {},
   "source": [
    "# Q4\n",
    "How to convert a 1D array into a 2D array? Demonstrate with the help of a code snippet\n",
    "Hint: np.newaxis, np.expand_dims"
   ]
  },
  {
   "cell_type": "code",
   "execution_count": 23,
   "metadata": {},
   "outputs": [
    {
     "name": "stdout",
     "output_type": "stream",
     "text": [
      "6\n",
      "Test 1D array (shape) : (6,)\n",
      "Test 2D array for row is : (1, 6)\n",
      "Test 2D array for column is : (6, 1)\n"
     ]
    }
   ],
   "source": [
    "arr = np.arange(int(input()))\n",
    "print(\"Test 1D array (shape) :\", arr.shape)\n",
    "\n",
    "two_d_array_row = arr[np.newaxis]\n",
    "print(\"Test 2D array for row is :\", two_d_array_row.shape)\n",
    "\n",
    "two_d_array_col = arr[:, np.newaxis]\n",
    "print(\"Test 2D array for column is :\", two_d_array_col.shape)"
   ]
  },
  {
   "cell_type": "markdown",
   "metadata": {},
   "source": [
    "# Q5\n",
    "Consider two square numpy arrays. Stack them vertically and horizontally.\n",
    "Hint: Use vstack(), hstack()"
   ]
  },
  {
   "cell_type": "code",
   "execution_count": 28,
   "metadata": {
    "scrolled": true
   },
   "outputs": [
    {
     "name": "stdout",
     "output_type": "stream",
     "text": [
      "[[  1   4   9]\n",
      " [ 16  25  36]\n",
      " [ 49  64  81]\n",
      " [121 144 169]\n",
      " [196 225 256]\n",
      " [289 324 361]]\n",
      "[[  1   4   9 121 144 169]\n",
      " [ 16  25  36 196 225 256]\n",
      " [ 49  64  81 289 324 361]]\n"
     ]
    }
   ],
   "source": [
    "arr1=np.array([ [1 ,2, 3] , [4, 5, 6] ,[7, 8, 9]])\n",
    "arr2=np.array([ [11, 12, 13] , [14 , 15, 16] ,[17, 18, 19]])\n",
    "sq_arr1=np.square(arr1)\n",
    "sq_arr2=np.square(arr2)\n",
    "\n",
    "out_arr1=np.vstack((sq_arr1,sq_arr2))\n",
    "print(out_arr1)\n",
    "\n",
    "out_arr2=np.hstack((sq_arr1,sq_arr2))\n",
    "print(out_arr2)"
   ]
  },
  {
   "cell_type": "markdown",
   "metadata": {},
   "source": [
    "# Q6\n",
    "How to get unique items and counts of unique items?"
   ]
  },
  {
   "cell_type": "code",
   "execution_count": 29,
   "metadata": {},
   "outputs": [
    {
     "name": "stdout",
     "output_type": "stream",
     "text": [
      "Unique list: \n",
      " [0, 1, 2, 3, 4, 5, 6, 7, 8, 9]\n",
      "count of items: 10\n"
     ]
    }
   ],
   "source": [
    "list = [0,1,2,2,3,4,5,5,6,7,7,8,9]\n",
    "un_list =[]\n",
    "for a in list:\n",
    "    if a not in un_list:\n",
    "         un_list.append(a)\n",
    "print (\"Unique list: \\n\", un_list)\n",
    "\n",
    "l1=[]\n",
    "count = 0\n",
    "for i in list:\n",
    "    if i not in l1:\n",
    "        count +=1\n",
    "        l1.append(i)\n",
    "        \n",
    "print (\"count of items:\",count)"
   ]
  },
  {
   "cell_type": "code",
   "execution_count": null,
   "metadata": {},
   "outputs": [],
   "source": []
  }
 ],
 "metadata": {
  "kernelspec": {
   "display_name": "Python 3",
   "language": "python",
   "name": "python3"
  },
  "language_info": {
   "codemirror_mode": {
    "name": "ipython",
    "version": 3
   },
   "file_extension": ".py",
   "mimetype": "text/x-python",
   "name": "python",
   "nbconvert_exporter": "python",
   "pygments_lexer": "ipython3",
   "version": "3.8.3"
  }
 },
 "nbformat": 4,
 "nbformat_minor": 4
}
